{
 "cells": [
  {
   "cell_type": "code",
   "execution_count": 18,
   "id": "e4beb6e6-c261-4ccc-acda-44d69159fbf7",
   "metadata": {},
   "outputs": [
    {
     "ename": "SyntaxError",
     "evalue": "invalid syntax (2412190004.py, line 1)",
     "output_type": "error",
     "traceback": [
      "\u001b[1;36m  Cell \u001b[1;32mIn[18], line 1\u001b[1;36m\u001b[0m\n\u001b[1;33m    pip install numpy pandas\u001b[0m\n\u001b[1;37m        ^\u001b[0m\n\u001b[1;31mSyntaxError\u001b[0m\u001b[1;31m:\u001b[0m invalid syntax\n"
     ]
    }
   ],
   "source": [
    "pip install numpy pandas"
   ]
  },
  {
   "cell_type": "code",
   "execution_count": 8,
   "id": "238d31aa-0757-40e5-9fe6-dd45ff69293f",
   "metadata": {},
   "outputs": [
    {
     "name": "stdout",
     "output_type": "stream",
     "text": [
      "Collecting datasets\n",
      "  Downloading datasets-2.17.1-py3-none-any.whl.metadata (20 kB)\n",
      "Collecting filelock (from datasets)\n",
      "  Downloading filelock-3.13.1-py3-none-any.whl.metadata (2.8 kB)\n",
      "Requirement already satisfied: numpy>=1.17 in c:\\users\\nabil\\anaconda3\\envs\\myenv\\lib\\site-packages (from datasets) (1.26.4)\n",
      "Collecting pyarrow>=12.0.0 (from datasets)\n",
      "  Downloading pyarrow-15.0.0-cp311-cp311-win_amd64.whl.metadata (3.1 kB)\n",
      "Collecting pyarrow-hotfix (from datasets)\n",
      "  Downloading pyarrow_hotfix-0.6-py3-none-any.whl.metadata (3.6 kB)\n",
      "Collecting dill<0.3.9,>=0.3.0 (from datasets)\n",
      "  Downloading dill-0.3.8-py3-none-any.whl.metadata (10 kB)\n",
      "Requirement already satisfied: pandas in c:\\users\\nabil\\anaconda3\\envs\\myenv\\lib\\site-packages (from datasets) (2.2.1)\n",
      "Requirement already satisfied: requests>=2.19.0 in c:\\users\\nabil\\anaconda3\\envs\\myenv\\lib\\site-packages (from datasets) (2.31.0)\n",
      "Collecting tqdm>=4.62.1 (from datasets)\n",
      "  Downloading tqdm-4.66.2-py3-none-any.whl.metadata (57 kB)\n",
      "     ---------------------------------------- 0.0/57.6 kB ? eta -:--:--\n",
      "     ---------------------------------------- 57.6/57.6 kB 3.0 MB/s eta 0:00:00\n",
      "Collecting xxhash (from datasets)\n",
      "  Downloading xxhash-3.4.1-cp311-cp311-win_amd64.whl.metadata (12 kB)\n",
      "Collecting multiprocess (from datasets)\n",
      "  Downloading multiprocess-0.70.16-py311-none-any.whl.metadata (7.2 kB)\n",
      "Collecting fsspec<=2023.10.0,>=2023.1.0 (from fsspec[http]<=2023.10.0,>=2023.1.0->datasets)\n",
      "  Downloading fsspec-2023.10.0-py3-none-any.whl.metadata (6.8 kB)\n",
      "Collecting aiohttp (from datasets)\n",
      "  Downloading aiohttp-3.9.3-cp311-cp311-win_amd64.whl.metadata (7.6 kB)\n",
      "Collecting huggingface-hub>=0.19.4 (from datasets)\n",
      "  Downloading huggingface_hub-0.21.2-py3-none-any.whl.metadata (13 kB)\n",
      "Requirement already satisfied: packaging in c:\\users\\nabil\\anaconda3\\envs\\myenv\\lib\\site-packages (from datasets) (23.1)\n",
      "Requirement already satisfied: pyyaml>=5.1 in c:\\users\\nabil\\anaconda3\\envs\\myenv\\lib\\site-packages (from datasets) (6.0.1)\n",
      "Collecting aiosignal>=1.1.2 (from aiohttp->datasets)\n",
      "  Downloading aiosignal-1.3.1-py3-none-any.whl.metadata (4.0 kB)\n",
      "Requirement already satisfied: attrs>=17.3.0 in c:\\users\\nabil\\anaconda3\\envs\\myenv\\lib\\site-packages (from aiohttp->datasets) (23.1.0)\n",
      "Collecting frozenlist>=1.1.1 (from aiohttp->datasets)\n",
      "  Downloading frozenlist-1.4.1-cp311-cp311-win_amd64.whl.metadata (12 kB)\n",
      "Collecting multidict<7.0,>=4.5 (from aiohttp->datasets)\n",
      "  Downloading multidict-6.0.5-cp311-cp311-win_amd64.whl.metadata (4.3 kB)\n",
      "Collecting yarl<2.0,>=1.0 (from aiohttp->datasets)\n",
      "  Downloading yarl-1.9.4-cp311-cp311-win_amd64.whl.metadata (32 kB)\n",
      "Requirement already satisfied: typing-extensions>=3.7.4.3 in c:\\users\\nabil\\anaconda3\\envs\\myenv\\lib\\site-packages (from huggingface-hub>=0.19.4->datasets) (4.9.0)\n",
      "Requirement already satisfied: charset-normalizer<4,>=2 in c:\\users\\nabil\\anaconda3\\envs\\myenv\\lib\\site-packages (from requests>=2.19.0->datasets) (2.0.4)\n",
      "Requirement already satisfied: idna<4,>=2.5 in c:\\users\\nabil\\anaconda3\\envs\\myenv\\lib\\site-packages (from requests>=2.19.0->datasets) (3.4)\n",
      "Requirement already satisfied: urllib3<3,>=1.21.1 in c:\\users\\nabil\\anaconda3\\envs\\myenv\\lib\\site-packages (from requests>=2.19.0->datasets) (2.1.0)\n",
      "Requirement already satisfied: certifi>=2017.4.17 in c:\\users\\nabil\\anaconda3\\envs\\myenv\\lib\\site-packages (from requests>=2.19.0->datasets) (2024.2.2)\n",
      "Requirement already satisfied: colorama in c:\\users\\nabil\\anaconda3\\envs\\myenv\\lib\\site-packages (from tqdm>=4.62.1->datasets) (0.4.6)\n",
      "Requirement already satisfied: python-dateutil>=2.8.2 in c:\\users\\nabil\\anaconda3\\envs\\myenv\\lib\\site-packages (from pandas->datasets) (2.8.2)\n",
      "Requirement already satisfied: pytz>=2020.1 in c:\\users\\nabil\\anaconda3\\envs\\myenv\\lib\\site-packages (from pandas->datasets) (2023.3.post1)\n",
      "Requirement already satisfied: tzdata>=2022.7 in c:\\users\\nabil\\anaconda3\\envs\\myenv\\lib\\site-packages (from pandas->datasets) (2024.1)\n",
      "Requirement already satisfied: six>=1.5 in c:\\users\\nabil\\anaconda3\\envs\\myenv\\lib\\site-packages (from python-dateutil>=2.8.2->pandas->datasets) (1.16.0)\n",
      "Downloading datasets-2.17.1-py3-none-any.whl (536 kB)\n",
      "   ---------------------------------------- 0.0/536.7 kB ? eta -:--:--\n",
      "   ------------------------ -------------- 337.9/536.7 kB 10.2 MB/s eta 0:00:01\n",
      "   ---------------------------------------  532.5/536.7 kB 6.7 MB/s eta 0:00:01\n",
      "   ---------------------------------------- 536.7/536.7 kB 5.6 MB/s eta 0:00:00\n",
      "Downloading dill-0.3.8-py3-none-any.whl (116 kB)\n",
      "   ---------------------------------------- 0.0/116.3 kB ? eta -:--:--\n",
      "   ---------------------------------------- 116.3/116.3 kB 6.6 MB/s eta 0:00:00\n",
      "Downloading fsspec-2023.10.0-py3-none-any.whl (166 kB)\n",
      "   ---------------------------------------- 0.0/166.4 kB ? eta -:--:--\n",
      "   --------------------------------------- 166.4/166.4 kB 10.4 MB/s eta 0:00:00\n",
      "Downloading aiohttp-3.9.3-cp311-cp311-win_amd64.whl (365 kB)\n",
      "   ---------------------------------------- 0.0/365.3 kB ? eta -:--:--\n",
      "   --------------------------------------- 365.3/365.3 kB 11.5 MB/s eta 0:00:00\n",
      "Downloading huggingface_hub-0.21.2-py3-none-any.whl (346 kB)\n",
      "   ---------------------------------------- 0.0/346.2 kB ? eta -:--:--\n",
      "   --------------------------------------- 346.2/346.2 kB 10.8 MB/s eta 0:00:00\n",
      "Downloading pyarrow-15.0.0-cp311-cp311-win_amd64.whl (24.8 MB)\n",
      "   ---------------------------------------- 0.0/24.8 MB ? eta -:--:--\n",
      "    --------------------------------------- 0.5/24.8 MB 10.7 MB/s eta 0:00:03\n",
      "   -- ------------------------------------- 1.3/24.8 MB 13.4 MB/s eta 0:00:02\n",
      "   --- ------------------------------------ 2.0/24.8 MB 13.9 MB/s eta 0:00:02\n",
      "   ---- ----------------------------------- 2.7/24.8 MB 14.2 MB/s eta 0:00:02\n",
      "   ----- ---------------------------------- 3.3/24.8 MB 14.1 MB/s eta 0:00:02\n",
      "   ------ --------------------------------- 4.1/24.8 MB 14.4 MB/s eta 0:00:02\n",
      "   ------- -------------------------------- 4.9/24.8 MB 14.8 MB/s eta 0:00:02\n",
      "   --------- ------------------------------ 5.7/24.8 MB 15.3 MB/s eta 0:00:02\n",
      "   ---------- ----------------------------- 6.6/24.8 MB 15.7 MB/s eta 0:00:02\n",
      "   ------------ --------------------------- 7.5/24.8 MB 16.0 MB/s eta 0:00:02\n",
      "   ------------- -------------------------- 8.5/24.8 MB 16.5 MB/s eta 0:00:01\n",
      "   -------------- ------------------------- 9.3/24.8 MB 16.5 MB/s eta 0:00:01\n",
      "   ---------------- ----------------------- 10.0/24.8 MB 16.3 MB/s eta 0:00:01\n",
      "   ----------------- ---------------------- 10.9/24.8 MB 16.8 MB/s eta 0:00:01\n",
      "   ------------------ --------------------- 11.8/24.8 MB 16.8 MB/s eta 0:00:01\n",
      "   -------------------- ------------------- 12.6/24.8 MB 16.8 MB/s eta 0:00:01\n",
      "   --------------------- ------------------ 13.5/24.8 MB 17.7 MB/s eta 0:00:01\n",
      "   ----------------------- ---------------- 14.5/24.8 MB 18.2 MB/s eta 0:00:01\n",
      "   ------------------------ --------------- 15.5/24.8 MB 18.2 MB/s eta 0:00:01\n",
      "   -------------------------- ------------- 16.4/24.8 MB 18.7 MB/s eta 0:00:01\n",
      "   --------------------------- ------------ 17.3/24.8 MB 18.7 MB/s eta 0:00:01\n",
      "   ----------------------------- ---------- 18.3/24.8 MB 19.3 MB/s eta 0:00:01\n",
      "   ------------------------------ --------- 19.1/24.8 MB 18.7 MB/s eta 0:00:01\n",
      "   -------------------------------- ------- 20.0/24.8 MB 18.7 MB/s eta 0:00:01\n",
      "   --------------------------------- ------ 21.0/24.8 MB 18.7 MB/s eta 0:00:01\n",
      "   ----------------------------------- ---- 21.9/24.8 MB 19.3 MB/s eta 0:00:01\n",
      "   ------------------------------------ --- 22.9/24.8 MB 19.8 MB/s eta 0:00:01\n",
      "   -------------------------------------- - 23.8/24.8 MB 19.8 MB/s eta 0:00:01\n",
      "   ---------------------------------------  24.6/24.8 MB 19.2 MB/s eta 0:00:01\n",
      "   ---------------------------------------  24.8/24.8 MB 19.3 MB/s eta 0:00:01\n",
      "   ---------------------------------------- 24.8/24.8 MB 17.7 MB/s eta 0:00:00\n",
      "Downloading tqdm-4.66.2-py3-none-any.whl (78 kB)\n",
      "   ---------------------------------------- 0.0/78.3 kB ? eta -:--:--\n",
      "   ---------------------------------------- 78.3/78.3 kB 4.5 MB/s eta 0:00:00\n",
      "Downloading filelock-3.13.1-py3-none-any.whl (11 kB)\n",
      "Downloading multiprocess-0.70.16-py311-none-any.whl (143 kB)\n",
      "   ---------------------------------------- 0.0/143.5 kB ? eta -:--:--\n",
      "   ---------------------------------------- 143.5/143.5 kB 8.3 MB/s eta 0:00:00\n",
      "Downloading pyarrow_hotfix-0.6-py3-none-any.whl (7.9 kB)\n",
      "Downloading xxhash-3.4.1-cp311-cp311-win_amd64.whl (29 kB)\n",
      "Downloading aiosignal-1.3.1-py3-none-any.whl (7.6 kB)\n",
      "Downloading frozenlist-1.4.1-cp311-cp311-win_amd64.whl (50 kB)\n",
      "   ---------------------------------------- 0.0/50.5 kB ? eta -:--:--\n",
      "   ---------------------------------------- 50.5/50.5 kB ? eta 0:00:00\n",
      "Downloading multidict-6.0.5-cp311-cp311-win_amd64.whl (28 kB)\n",
      "Downloading yarl-1.9.4-cp311-cp311-win_amd64.whl (76 kB)\n",
      "   ---------------------------------------- 0.0/76.7 kB ? eta -:--:--\n",
      "   ---------------------------------------- 76.7/76.7 kB 4.2 MB/s eta 0:00:00\n",
      "Installing collected packages: xxhash, tqdm, pyarrow-hotfix, pyarrow, multidict, fsspec, frozenlist, filelock, dill, yarl, multiprocess, huggingface-hub, aiosignal, aiohttp, datasets\n",
      "Successfully installed aiohttp-3.9.3 aiosignal-1.3.1 datasets-2.17.1 dill-0.3.8 filelock-3.13.1 frozenlist-1.4.1 fsspec-2023.10.0 huggingface-hub-0.21.2 multidict-6.0.5 multiprocess-0.70.16 pyarrow-15.0.0 pyarrow-hotfix-0.6 tqdm-4.66.2 xxhash-3.4.1 yarl-1.9.4\n",
      "Note: you may need to restart the kernel to use updated packages.\n"
     ]
    }
   ],
   "source": [
    "pip install datasets"
   ]
  },
  {
   "cell_type": "code",
   "execution_count": 15,
   "id": "0b083c45-e2e4-40c6-8111-d477a451a1f0",
   "metadata": {},
   "outputs": [
    {
     "name": "stdout",
     "output_type": "stream",
     "text": [
      "Collecting transformers\n",
      "  Downloading transformers-4.38.1-py3-none-any.whl.metadata (131 kB)\n",
      "     ---------------------------------------- 0.0/131.1 kB ? eta -:--:--\n",
      "     ------------------ -------------------- 61.4/131.1 kB 1.1 MB/s eta 0:00:01\n",
      "     -------------------------------------- 131.1/131.1 kB 1.9 MB/s eta 0:00:00\n",
      "Requirement already satisfied: filelock in c:\\users\\nabil\\anaconda3\\envs\\myenv\\lib\\site-packages (from transformers) (3.13.1)\n",
      "Requirement already satisfied: huggingface-hub<1.0,>=0.19.3 in c:\\users\\nabil\\anaconda3\\envs\\myenv\\lib\\site-packages (from transformers) (0.21.2)\n",
      "Requirement already satisfied: numpy>=1.17 in c:\\users\\nabil\\anaconda3\\envs\\myenv\\lib\\site-packages (from transformers) (1.26.4)\n",
      "Requirement already satisfied: packaging>=20.0 in c:\\users\\nabil\\anaconda3\\envs\\myenv\\lib\\site-packages (from transformers) (23.1)\n",
      "Requirement already satisfied: pyyaml>=5.1 in c:\\users\\nabil\\anaconda3\\envs\\myenv\\lib\\site-packages (from transformers) (6.0.1)\n",
      "Collecting regex!=2019.12.17 (from transformers)\n",
      "  Downloading regex-2023.12.25-cp311-cp311-win_amd64.whl.metadata (41 kB)\n",
      "     ---------------------------------------- 0.0/42.0 kB ? eta -:--:--\n",
      "     ---------------------------------------- 42.0/42.0 kB 2.0 MB/s eta 0:00:00\n",
      "Requirement already satisfied: requests in c:\\users\\nabil\\anaconda3\\envs\\myenv\\lib\\site-packages (from transformers) (2.31.0)\n",
      "Collecting tokenizers<0.19,>=0.14 (from transformers)\n",
      "  Downloading tokenizers-0.15.2-cp311-none-win_amd64.whl.metadata (6.8 kB)\n",
      "Collecting safetensors>=0.4.1 (from transformers)\n",
      "  Downloading safetensors-0.4.2-cp311-none-win_amd64.whl.metadata (3.9 kB)\n",
      "Requirement already satisfied: tqdm>=4.27 in c:\\users\\nabil\\anaconda3\\envs\\myenv\\lib\\site-packages (from transformers) (4.66.2)\n",
      "Requirement already satisfied: fsspec>=2023.5.0 in c:\\users\\nabil\\anaconda3\\envs\\myenv\\lib\\site-packages (from huggingface-hub<1.0,>=0.19.3->transformers) (2023.10.0)\n",
      "Requirement already satisfied: typing-extensions>=3.7.4.3 in c:\\users\\nabil\\anaconda3\\envs\\myenv\\lib\\site-packages (from huggingface-hub<1.0,>=0.19.3->transformers) (4.9.0)\n",
      "Requirement already satisfied: colorama in c:\\users\\nabil\\anaconda3\\envs\\myenv\\lib\\site-packages (from tqdm>=4.27->transformers) (0.4.6)\n",
      "Requirement already satisfied: charset-normalizer<4,>=2 in c:\\users\\nabil\\anaconda3\\envs\\myenv\\lib\\site-packages (from requests->transformers) (2.0.4)\n",
      "Requirement already satisfied: idna<4,>=2.5 in c:\\users\\nabil\\anaconda3\\envs\\myenv\\lib\\site-packages (from requests->transformers) (3.4)\n",
      "Requirement already satisfied: urllib3<3,>=1.21.1 in c:\\users\\nabil\\anaconda3\\envs\\myenv\\lib\\site-packages (from requests->transformers) (2.1.0)\n",
      "Requirement already satisfied: certifi>=2017.4.17 in c:\\users\\nabil\\anaconda3\\envs\\myenv\\lib\\site-packages (from requests->transformers) (2024.2.2)\n",
      "Downloading transformers-4.38.1-py3-none-any.whl (8.5 MB)\n",
      "   ---------------------------------------- 0.0/8.5 MB ? eta -:--:--\n",
      "   -- ------------------------------------- 0.5/8.5 MB 11.4 MB/s eta 0:00:01\n",
      "   ----- ---------------------------------- 1.1/8.5 MB 14.6 MB/s eta 0:00:01\n",
      "   -------- ------------------------------- 1.7/8.5 MB 13.8 MB/s eta 0:00:01\n",
      "   ----------- ---------------------------- 2.5/8.5 MB 14.9 MB/s eta 0:00:01\n",
      "   ------------- -------------------------- 2.9/8.5 MB 12.6 MB/s eta 0:00:01\n",
      "   --------------- ------------------------ 3.2/8.5 MB 11.4 MB/s eta 0:00:01\n",
      "   ------------------ --------------------- 3.9/8.5 MB 12.3 MB/s eta 0:00:01\n",
      "   ---------------------- ----------------- 4.7/8.5 MB 13.1 MB/s eta 0:00:01\n",
      "   ------------------------- -------------- 5.4/8.5 MB 13.4 MB/s eta 0:00:01\n",
      "   --------------------------- ------------ 6.0/8.5 MB 13.6 MB/s eta 0:00:01\n",
      "   -------------------------------- ------- 6.8/8.5 MB 14.1 MB/s eta 0:00:01\n",
      "   ------------------------------------ --- 7.7/8.5 MB 14.5 MB/s eta 0:00:01\n",
      "   ---------------------------------------  8.5/8.5 MB 14.8 MB/s eta 0:00:01\n",
      "   ---------------------------------------- 8.5/8.5 MB 14.0 MB/s eta 0:00:00\n",
      "Downloading regex-2023.12.25-cp311-cp311-win_amd64.whl (269 kB)\n",
      "   ---------------------------------------- 0.0/269.5 kB ? eta -:--:--\n",
      "   --------------------------------------- 269.5/269.5 kB 16.2 MB/s eta 0:00:00\n",
      "Downloading safetensors-0.4.2-cp311-none-win_amd64.whl (269 kB)\n",
      "   ---------------------------------------- 0.0/269.6 kB ? eta -:--:--\n",
      "   --------------------------------------- 269.6/269.6 kB 16.2 MB/s eta 0:00:00\n",
      "Downloading tokenizers-0.15.2-cp311-none-win_amd64.whl (2.2 MB)\n",
      "   ---------------------------------------- 0.0/2.2 MB ? eta -:--:--\n",
      "   ----------- ---------------------------- 0.6/2.2 MB 20.1 MB/s eta 0:00:01\n",
      "   --------------------------- ------------ 1.5/2.2 MB 19.0 MB/s eta 0:00:01\n",
      "   ---------------------------------------  2.2/2.2 MB 17.4 MB/s eta 0:00:01\n",
      "   ---------------------------------------- 2.2/2.2 MB 15.6 MB/s eta 0:00:00\n",
      "Installing collected packages: safetensors, regex, tokenizers, transformers\n",
      "Successfully installed regex-2023.12.25 safetensors-0.4.2 tokenizers-0.15.2 transformers-4.38.1\n",
      "Note: you may need to restart the kernel to use updated packages.\n"
     ]
    }
   ],
   "source": [
    "pip install transformers"
   ]
  },
  {
   "cell_type": "code",
   "execution_count": 10,
   "id": "e7564676-8f8f-4b11-9d06-b929a02dabfe",
   "metadata": {},
   "outputs": [
    {
     "data": {
      "application/vnd.jupyter.widget-view+json": {
       "model_id": "4c844547d0714fb19d123238083edfd9",
       "version_major": 2,
       "version_minor": 0
      },
      "text/plain": [
       "Downloading readme:   0%|          | 0.00/7.81k [00:00<?, ?B/s]"
      ]
     },
     "metadata": {},
     "output_type": "display_data"
    },
    {
     "data": {
      "application/vnd.jupyter.widget-view+json": {
       "model_id": "fe55b760b0344af684dca4303a7ecd65",
       "version_major": 2,
       "version_minor": 0
      },
      "text/plain": [
       "Downloading data:   0%|          | 0.00/21.0M [00:00<?, ?B/s]"
      ]
     },
     "metadata": {},
     "output_type": "display_data"
    },
    {
     "data": {
      "application/vnd.jupyter.widget-view+json": {
       "model_id": "f98d74fa6d384c7abd7592728dfbc591",
       "version_major": 2,
       "version_minor": 0
      },
      "text/plain": [
       "Downloading data:   0%|          | 0.00/20.5M [00:00<?, ?B/s]"
      ]
     },
     "metadata": {},
     "output_type": "display_data"
    },
    {
     "data": {
      "application/vnd.jupyter.widget-view+json": {
       "model_id": "f5029dc44414416ba44a4e3ec311b28c",
       "version_major": 2,
       "version_minor": 0
      },
      "text/plain": [
       "Downloading data:   0%|          | 0.00/42.0M [00:00<?, ?B/s]"
      ]
     },
     "metadata": {},
     "output_type": "display_data"
    },
    {
     "data": {
      "application/vnd.jupyter.widget-view+json": {
       "model_id": "a72d4c78f4ec4b91b2cb6045360ce69f",
       "version_major": 2,
       "version_minor": 0
      },
      "text/plain": [
       "Generating train split:   0%|          | 0/25000 [00:00<?, ? examples/s]"
      ]
     },
     "metadata": {},
     "output_type": "display_data"
    },
    {
     "data": {
      "application/vnd.jupyter.widget-view+json": {
       "model_id": "49857e76635b4fa2abed883282f99a3d",
       "version_major": 2,
       "version_minor": 0
      },
      "text/plain": [
       "Generating test split:   0%|          | 0/25000 [00:00<?, ? examples/s]"
      ]
     },
     "metadata": {},
     "output_type": "display_data"
    },
    {
     "data": {
      "application/vnd.jupyter.widget-view+json": {
       "model_id": "4a471ebc3ad24eae85619d8b87bae4ca",
       "version_major": 2,
       "version_minor": 0
      },
      "text/plain": [
       "Generating unsupervised split:   0%|          | 0/50000 [00:00<?, ? examples/s]"
      ]
     },
     "metadata": {},
     "output_type": "display_data"
    },
    {
     "name": "stdout",
     "output_type": "stream",
     "text": [
      "DatasetDict({\n",
      "    train: Dataset({\n",
      "        features: ['text', 'label'],\n",
      "        num_rows: 25000\n",
      "    })\n",
      "    test: Dataset({\n",
      "        features: ['text', 'label'],\n",
      "        num_rows: 25000\n",
      "    })\n",
      "    unsupervised: Dataset({\n",
      "        features: ['text', 'label'],\n",
      "        num_rows: 50000\n",
      "    })\n",
      "})\n",
      "{'text': 'I rented I AM CURIOUS-YELLOW from my video store because of all the controversy that surrounded it when it was first released in 1967. I also heard that at first it was seized by U.S. customs if it ever tried to enter this country, therefore being a fan of films considered \"controversial\" I really had to see this for myself.<br /><br />The plot is centered around a young Swedish drama student named Lena who wants to learn everything she can about life. In particular she wants to focus her attentions to making some sort of documentary on what the average Swede thought about certain political issues such as the Vietnam War and race issues in the United States. In between asking politicians and ordinary denizens of Stockholm about their opinions on politics, she has sex with her drama teacher, classmates, and married men.<br /><br />What kills me about I AM CURIOUS-YELLOW is that 40 years ago, this was considered pornographic. Really, the sex and nudity scenes are few and far between, even then it\\'s not shot like some cheaply made porno. While my countrymen mind find it shocking, in reality sex and nudity are a major staple in Swedish cinema. Even Ingmar Bergman, arguably their answer to good old boy John Ford, had sex scenes in his films.<br /><br />I do commend the filmmakers for the fact that any sex shown in the film is shown for artistic purposes rather than just to shock people and make money to be shown in pornographic theaters in America. I AM CURIOUS-YELLOW is a good film for anyone wanting to study the meat and potatoes (no pun intended) of Swedish cinema. But really, this film doesn\\'t have much of a plot.', 'label': 0}\n"
     ]
    }
   ],
   "source": [
    "from datasets import load_dataset\n",
    "\n",
    "# Load the IMDb dataset\n",
    "dataset = load_dataset(\"imdb\")\n",
    "\n",
    "# Print dataset info\n",
    "print(dataset)\n",
    "\n",
    "# Get a sample of the dataset\n",
    "sample = dataset['train'][0]\n",
    "print(sample)"
   ]
  },
  {
   "cell_type": "code",
   "execution_count": 20,
   "id": "1cc18ce0-8dd7-4e1a-926c-8a0bbdb1b095",
   "metadata": {},
   "outputs": [],
   "source": [
    "import pandas as pd"
   ]
  },
  {
   "cell_type": "code",
   "execution_count": 21,
   "id": "a7a183b9-e26c-4f6b-aaa3-d74a63d213d3",
   "metadata": {},
   "outputs": [
    {
     "name": "stdout",
     "output_type": "stream",
     "text": [
      "Missing values:\n",
      "text     0\n",
      "label    0\n",
      "dtype: int64\n"
     ]
    }
   ],
   "source": [
    "# Convert the dataset to a pandas DataFrame\n",
    "df = pd.DataFrame(dataset['train'])\n",
    "\n",
    "# Check for missing values\n",
    "print(\"Missing values:\")\n",
    "print(df.isnull().sum())"
   ]
  },
  {
   "cell_type": "code",
   "execution_count": null,
   "id": "cde6b866-fe14-4f7c-821d-d259cb8b9f54",
   "metadata": {},
   "outputs": [],
   "source": []
  }
 ],
 "metadata": {
  "kernelspec": {
   "display_name": "Python 3 (ipykernel)",
   "language": "python",
   "name": "python3"
  },
  "language_info": {
   "codemirror_mode": {
    "name": "ipython",
    "version": 3
   },
   "file_extension": ".py",
   "mimetype": "text/x-python",
   "name": "python",
   "nbconvert_exporter": "python",
   "pygments_lexer": "ipython3",
   "version": "3.11.8"
  }
 },
 "nbformat": 4,
 "nbformat_minor": 5
}
